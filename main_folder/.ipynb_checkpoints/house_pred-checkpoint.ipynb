{
 "cells": [
  {
   "cell_type": "code",
   "execution_count": 1,
   "id": "0a03fef7-b706-4e66-ae8d-fc7c56f9805d",
   "metadata": {},
   "outputs": [
    {
     "ename": "ModuleNotFoundError",
     "evalue": "No module named 'sklearn'",
     "output_type": "error",
     "traceback": [
      "\u001b[1;31m---------------------------------------------------------------------------\u001b[0m",
      "\u001b[1;31mModuleNotFoundError\u001b[0m                       Traceback (most recent call last)",
      "Cell \u001b[1;32mIn[1], line 12\u001b[0m\n\u001b[0;32m     10\u001b[0m \u001b[38;5;28;01mimport\u001b[39;00m \u001b[38;5;21;01mmatplotlib\u001b[39;00m\u001b[38;5;21;01m.\u001b[39;00m\u001b[38;5;21;01mpyplot\u001b[39;00m \u001b[38;5;28;01mas\u001b[39;00m \u001b[38;5;21;01mplt\u001b[39;00m\n\u001b[0;32m     11\u001b[0m \u001b[38;5;28;01mimport\u001b[39;00m \u001b[38;5;21;01mseaborn\u001b[39;00m \u001b[38;5;28;01mas\u001b[39;00m \u001b[38;5;21;01msns\u001b[39;00m\n\u001b[1;32m---> 12\u001b[0m \u001b[38;5;28;01mfrom\u001b[39;00m \u001b[38;5;21;01msklearn\u001b[39;00m\u001b[38;5;21;01m.\u001b[39;00m\u001b[38;5;21;01mmodel_selection\u001b[39;00m \u001b[38;5;28;01mimport\u001b[39;00m train_test_split\n\u001b[0;32m     13\u001b[0m \u001b[38;5;28;01mfrom\u001b[39;00m \u001b[38;5;21;01msklearn\u001b[39;00m\u001b[38;5;21;01m.\u001b[39;00m\u001b[38;5;21;01mlinear_model\u001b[39;00m \u001b[38;5;28;01mimport\u001b[39;00m LinearRegression\n\u001b[0;32m     14\u001b[0m \u001b[38;5;28;01mfrom\u001b[39;00m \u001b[38;5;21;01msklearn\u001b[39;00m\u001b[38;5;21;01m.\u001b[39;00m\u001b[38;5;21;01mmetrics\u001b[39;00m \u001b[38;5;28;01mimport\u001b[39;00m mean_squared_error\n",
      "\u001b[1;31mModuleNotFoundError\u001b[0m: No module named 'sklearn'"
     ]
    }
   ],
   "source": [
    "\"\"\"\n",
    "1. Charger les bibliothèques et les fichiers\n",
    "Nous commencerons par charger les bibliothèques nécessaires \n",
    "et les fichiers de données d'entraînement et de test une fois que vous les aurez téléversés.\n",
    "\"\"\"\n",
    "\n",
    "# Importer les bibliothèques nécessaires\n",
    "import pandas as pd\n",
    "import numpy as np\n",
    "import matplotlib.pyplot as plt\n",
    "import seaborn as sns\n",
    "from sklearn.model_selection import train_test_split\n",
    "from sklearn.linear_model import LinearRegression\n",
    "from sklearn.metrics import mean_squared_error\n",
    "\"\"\"\n",
    "# Charger les fichiers de données\n",
    "train_data = pd.read_csv('data/train.csv')\n",
    "test_data = pd.read_csv('data/test.csv')\n",
    "\n",
    "# Afficher les premières lignes pour vérifier que les données sont bien chargées\n",
    "print(\"Train data:\", train_data.head())\n",
    "print(\"Test data:\", test_data.head())\n",
    "\"\"\""
   ]
  },
  {
   "cell_type": "code",
   "execution_count": null,
   "id": "785d490e-d3d9-4a09-97eb-8fd59928a7ec",
   "metadata": {},
   "outputs": [],
   "source": [
    "\"\"\"\n",
    "2. Sélectionner les colonnes importantes\n",
    "Comme nous l'avons discuté, nous allons sélectionner les colonnes \n",
    "qui nous intéressent : la surface, le nombre de chambres et de salles de bains.\n",
    "\"\"\"\n",
    "# Sélection des colonnes pertinentes pour l'analyse\n",
    "columns = ['GrLivArea', 'BedroomAbvGr', 'FullBath', 'SalePrice']  # inclure 'SalePrice' pour l'entraînement\n",
    "\n",
    "# Filtrer les données d'entraînement et de test\n",
    "train_data = train_data[columns]\n",
    "test_columns = ['GrLivArea', 'BedroomAbvGr', 'FullBath']  # Les colonnes sans 'SalePrice' pour les données de test\n",
    "test_data = test_data[test_columns]\n",
    "\n",
    "# Vérifier les données filtrées\n",
    "print(train_data.head())\n",
    "print(test_data.head())\n"
   ]
  },
  {
   "cell_type": "code",
   "execution_count": null,
   "id": "acdb7237-29e3-4af6-a82b-fd76515629a6",
   "metadata": {},
   "outputs": [],
   "source": [
    "\"\"\"\n",
    "3. Traitement des données manquantes (si nécessaire)\n",
    "Nous allons également vérifier s'il y a des valeurs manquantes dans les colonnes importantes et les traiter.\n",
    "\"\"\"\n",
    "# Vérifier les valeurs manquantes\n",
    "print(\"Valeurs manquantes dans les données d'entraînement:\")\n",
    "print(train_data.isnull().sum())\n",
    "\n",
    "print(\"Valeurs manquantes dans les données de test:\")\n",
    "print(test_data.isnull().sum())\n",
    "\n",
    "# Remplacer les valeurs manquantes (par exemple, par la moyenne des colonnes)\n",
    "train_data.fillna(train_data.mean(), inplace=True)\n",
    "test_data.fillna(test_data.mean(), inplace=True)\n"
   ]
  },
  {
   "cell_type": "code",
   "execution_count": null,
   "id": "572e45fc-df5d-4b04-be05-a6e18f0bec02",
   "metadata": {},
   "outputs": [],
   "source": [
    "\"\"\"\n",
    "4. Séparer les features et la cible\n",
    "Ensuite, nous séparons les colonnes de caractéristiques (GrLivArea, BedroomAbvGr, FullBath) et la variable cible (SalePrice) dans les données d'entraînement.\n",
    "\"\"\"\n",
    "# Séparer les caractéristiques (features) et la cible (target)\n",
    "X_train = train_data[['GrLivArea', 'BedroomAbvGr', 'FullBath']]  # Features\n",
    "y_train = train_data['SalePrice']  # Target\n",
    "\n",
    "# Les données de test n'ont que les features\n",
    "X_test = test_data\n"
   ]
  },
  {
   "cell_type": "code",
   "execution_count": null,
   "id": "82f87606-db39-4c01-aa8c-f5ab5c704542",
   "metadata": {},
   "outputs": [],
   "source": [
    "\"\"\"\n",
    "5. Entraîner le modèle\n",
    "Nous allons maintenant entraîner un modèle de régression linéaire.\n",
    "\"\"\"\n",
    "\n",
    "# Initialiser le modèle de régression linéaire\n",
    "model = LinearRegression()\n",
    "\n",
    "# Entraîner le modèle sur les données d'entraînement\n",
    "model.fit(X_train, y_train)\n",
    "\n",
    "# Afficher les coefficients du modèle\n",
    "print(\"Coefficients:\", model.coef_)\n",
    "print(\"Intercept:\", model.intercept_)\n"
   ]
  },
  {
   "cell_type": "code",
   "execution_count": null,
   "id": "2a6b6bdd-fd8c-4afd-9ec7-60bdaff9cb08",
   "metadata": {},
   "outputs": [],
   "source": [
    "\"\"\"\n",
    "6. Faire des prédictions\n",
    "Une fois le modèle entraîné, nous ferons des prédictions sur les données de test.\n",
    "\"\"\"\n",
    "\n",
    "# Faire des prédictions sur les données de test\n",
    "y_pred = model.predict(X_test)\n",
    "\n",
    "# Afficher les prédictions\n",
    "print(\"Prédictions sur les données de test:\")\n",
    "print(y_pred)\n"
   ]
  },
  {
   "cell_type": "code",
   "execution_count": null,
   "id": "744b8567-7b7f-4c32-b718-8bdbb14618c0",
   "metadata": {},
   "outputs": [],
   "source": [
    "\"\"\"\n",
    "7. Évaluer le modèle (pour les données d'entraînement)\n",
    "Pour évaluer le modèle, nous utiliserons l'erreur quadratique moyenne (MSE).\n",
    "\"\"\"\n",
    "\n",
    "# Faire des prédictions sur les données d'entraînement pour évaluer\n",
    "y_train_pred = model.predict(X_train)\n",
    "\n",
    "# Calculer l'erreur quadratique moyenne (MSE)\n",
    "mse = mean_squared_error(y_train, y_train_pred)\n",
    "print(\"Erreur quadratique moyenne (MSE) sur les données d'entraînement:\", mse)\n"
   ]
  },
  {
   "cell_type": "code",
   "execution_count": null,
   "id": "e1592a04-dd3a-4be3-b93f-e747b9f66427",
   "metadata": {},
   "outputs": [],
   "source": [
    "\"\"\"\n",
    "8. Sauvegarder les prédictions\n",
    "Enfin, nous sauvegarderons les prédictions dans un fichier CSV pour analyse.\n",
    "\"\"\"\n",
    "\n",
    "# Faire des prédictions sur les données d'entraînement pour évaluer\n",
    "y_train_pred = model.predict(X_train)\n",
    "\n",
    "# Calculer l'erreur quadratique moyenne (MSE)\n",
    "mse = mean_squared_error(y_train, y_train_pred)\n",
    "print(\"Erreur quadratique moyenne (MSE) sur les données d'entraînement:\", mse)\n"
   ]
  }
 ],
 "metadata": {
  "kernelspec": {
   "display_name": "Python 3 (ipykernel)",
   "language": "python",
   "name": "python3"
  },
  "language_info": {
   "codemirror_mode": {
    "name": "ipython",
    "version": 3
   },
   "file_extension": ".py",
   "mimetype": "text/x-python",
   "name": "python",
   "nbconvert_exporter": "python",
   "pygments_lexer": "ipython3",
   "version": "3.12.5"
  }
 },
 "nbformat": 4,
 "nbformat_minor": 5
}
