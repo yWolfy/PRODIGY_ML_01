{
 "cells": [
  {
   "cell_type": "code",
   "execution_count": 26,
   "id": "8f4421d0-0d6d-4867-852d-d46060eb8209",
   "metadata": {},
   "outputs": [],
   "source": [
    "# Importer les bibliothèques nécessaires\n",
    "import warnings\n",
    "warnings.filterwarnings(\"ignore\")\n",
    "\n",
    "import pandas as pd\n",
    "import numpy as np\n",
    "import matplotlib.pyplot as plt\n",
    "import seaborn as sns\n",
    "from sklearn.model_selection import train_test_split\n",
    "from sklearn.linear_model import LinearRegression\n",
    "from sklearn.metrics import mean_squared_error"
   ]
  },
  {
   "cell_type": "code",
   "execution_count": 27,
   "id": "0a03fef7-b706-4e66-ae8d-fc7c56f9805d",
   "metadata": {},
   "outputs": [
    {
     "name": "stdout",
     "output_type": "stream",
     "text": [
      "Train data:    Id  MSSubClass MSZoning  LotFrontage  LotArea Street Alley LotShape  \\\n",
      "0   1          60       RL         65.0     8450   Pave   NaN      Reg   \n",
      "1   2          20       RL         80.0     9600   Pave   NaN      Reg   \n",
      "2   3          60       RL         68.0    11250   Pave   NaN      IR1   \n",
      "3   4          70       RL         60.0     9550   Pave   NaN      IR1   \n",
      "4   5          60       RL         84.0    14260   Pave   NaN      IR1   \n",
      "\n",
      "  LandContour Utilities  ... PoolArea PoolQC Fence MiscFeature MiscVal MoSold  \\\n",
      "0         Lvl    AllPub  ...        0    NaN   NaN         NaN       0      2   \n",
      "1         Lvl    AllPub  ...        0    NaN   NaN         NaN       0      5   \n",
      "2         Lvl    AllPub  ...        0    NaN   NaN         NaN       0      9   \n",
      "3         Lvl    AllPub  ...        0    NaN   NaN         NaN       0      2   \n",
      "4         Lvl    AllPub  ...        0    NaN   NaN         NaN       0     12   \n",
      "\n",
      "  YrSold  SaleType  SaleCondition  SalePrice  \n",
      "0   2008        WD         Normal     208500  \n",
      "1   2007        WD         Normal     181500  \n",
      "2   2008        WD         Normal     223500  \n",
      "3   2006        WD        Abnorml     140000  \n",
      "4   2008        WD         Normal     250000  \n",
      "\n",
      "[5 rows x 81 columns]\n",
      "Test data:      Id  MSSubClass MSZoning  LotFrontage  LotArea Street Alley LotShape  \\\n",
      "0  1461          20       RH         80.0    11622   Pave   NaN      Reg   \n",
      "1  1462          20       RL         81.0    14267   Pave   NaN      IR1   \n",
      "2  1463          60       RL         74.0    13830   Pave   NaN      IR1   \n",
      "3  1464          60       RL         78.0     9978   Pave   NaN      IR1   \n",
      "4  1465         120       RL         43.0     5005   Pave   NaN      IR1   \n",
      "\n",
      "  LandContour Utilities  ... ScreenPorch PoolArea PoolQC  Fence MiscFeature  \\\n",
      "0         Lvl    AllPub  ...         120        0    NaN  MnPrv         NaN   \n",
      "1         Lvl    AllPub  ...           0        0    NaN    NaN        Gar2   \n",
      "2         Lvl    AllPub  ...           0        0    NaN  MnPrv         NaN   \n",
      "3         Lvl    AllPub  ...           0        0    NaN    NaN         NaN   \n",
      "4         HLS    AllPub  ...         144        0    NaN    NaN         NaN   \n",
      "\n",
      "  MiscVal MoSold  YrSold  SaleType  SaleCondition  \n",
      "0       0      6    2010        WD         Normal  \n",
      "1   12500      6    2010        WD         Normal  \n",
      "2       0      3    2010        WD         Normal  \n",
      "3       0      6    2010        WD         Normal  \n",
      "4       0      1    2010        WD         Normal  \n",
      "\n",
      "[5 rows x 80 columns]\n"
     ]
    }
   ],
   "source": [
    "\"\"\"\n",
    "1. Charger les bibliothèques et les fichiers\n",
    "Nous commencerons par charger les bibliothèques nécessaires \n",
    "et les fichiers de données d'entraînement et de test une fois que vous les aurez téléversés.\n",
    "\n",
    "\"\"\"\n",
    "# Charger les fichiers de données\n",
    "train_data = pd.read_csv('data/train.csv')\n",
    "test_data = pd.read_csv('data/test.csv')\n",
    "\n",
    "# Afficher les premières lignes pour vérifier que les données sont bien chargées\n",
    "print(\"Train data:\", train_data.head())\n",
    "print(\"Test data:\", test_data.head())\n"
   ]
  },
  {
   "cell_type": "code",
   "execution_count": 28,
   "id": "785d490e-d3d9-4a09-97eb-8fd59928a7ec",
   "metadata": {},
   "outputs": [
    {
     "name": "stdout",
     "output_type": "stream",
     "text": [
      "   GrLivArea  BedroomAbvGr  FullBath  SalePrice\n",
      "0       1710             3         2     208500\n",
      "1       1262             3         2     181500\n",
      "2       1786             3         2     223500\n",
      "3       1717             3         1     140000\n",
      "4       2198             4         2     250000\n",
      "   GrLivArea  BedroomAbvGr  FullBath\n",
      "0        896             2         1\n",
      "1       1329             3         1\n",
      "2       1629             3         2\n",
      "3       1604             3         2\n",
      "4       1280             2         2\n"
     ]
    }
   ],
   "source": [
    "\"\"\"\n",
    "2. Sélectionner les colonnes importantes\n",
    "Comme nous l'avons discuté, nous allons sélectionner les colonnes \n",
    "qui nous intéressent : la surface, le nombre de chambres et de salles de bains.\n",
    "\"\"\"\n",
    "# Sélection des colonnes pertinentes pour l'analyse\n",
    "columns = ['GrLivArea', 'BedroomAbvGr', 'FullBath', 'SalePrice']  # inclure 'SalePrice' pour l'entraînement\n",
    "\n",
    "# Filtrer les données d'entraînement et de test\n",
    "train_data = train_data[columns]\n",
    "test_columns = ['GrLivArea', 'BedroomAbvGr', 'FullBath']  # Les colonnes sans 'SalePrice' pour les données de test\n",
    "test_data = test_data[test_columns]\n",
    "\n",
    "# Vérifier les données filtrées\n",
    "print(train_data.head())\n",
    "print(test_data.head())\n"
   ]
  },
  {
   "cell_type": "code",
   "execution_count": 29,
   "id": "acdb7237-29e3-4af6-a82b-fd76515629a6",
   "metadata": {},
   "outputs": [
    {
     "name": "stdout",
     "output_type": "stream",
     "text": [
      "Valeurs manquantes dans les données d'entraînement:\n",
      "GrLivArea       0\n",
      "BedroomAbvGr    0\n",
      "FullBath        0\n",
      "SalePrice       0\n",
      "dtype: int64\n",
      "Valeurs manquantes dans les données de test:\n",
      "GrLivArea       0\n",
      "BedroomAbvGr    0\n",
      "FullBath        0\n",
      "dtype: int64\n"
     ]
    }
   ],
   "source": [
    "\"\"\"\n",
    "3. Traitement des données manquantes (si nécessaire)\n",
    "Nous allons également vérifier s'il y a des valeurs manquantes dans les colonnes importantes et les traiter.\n",
    "\"\"\"\n",
    "# Vérifier les valeurs manquantes\n",
    "print(\"Valeurs manquantes dans les données d'entraînement:\")\n",
    "print(train_data.isnull().sum())\n",
    "\n",
    "print(\"Valeurs manquantes dans les données de test:\")\n",
    "print(test_data.isnull().sum())\n",
    "\n",
    "# Remplacer les valeurs manquantes (par exemple, par la moyenne des colonnes)\n",
    "train_data.fillna(train_data.mean(), inplace=True)\n",
    "test_data.fillna(test_data.mean(), inplace=True)\n"
   ]
  },
  {
   "cell_type": "code",
   "execution_count": 30,
   "id": "572e45fc-df5d-4b04-be05-a6e18f0bec02",
   "metadata": {},
   "outputs": [],
   "source": [
    "\"\"\"\n",
    "4. Séparer les features et la cible\n",
    "Ensuite, nous séparons les colonnes de caractéristiques (GrLivArea, BedroomAbvGr, FullBath) et la variable cible (SalePrice) dans les données d'entraînement.\n",
    "\"\"\"\n",
    "# Séparer les caractéristiques (features) et la cible (target)\n",
    "X_train = train_data[['GrLivArea', 'BedroomAbvGr', 'FullBath']]  # Features\n",
    "y_train = train_data['SalePrice']  # Target\n",
    "\n",
    "# Les données de test n'ont que les features\n",
    "X_test = test_data\n"
   ]
  },
  {
   "cell_type": "code",
   "execution_count": 31,
   "id": "82f87606-db39-4c01-aa8c-f5ab5c704542",
   "metadata": {},
   "outputs": [
    {
     "name": "stdout",
     "output_type": "stream",
     "text": [
      "Coefficients: [   110.06172639 -27859.33222353  29694.68839062]\n",
      "Intercept: 47509.48218946543\n"
     ]
    }
   ],
   "source": [
    "\"\"\"\n",
    "5. Entraîner le modèle\n",
    "Nous allons maintenant entraîner un modèle de régression linéaire.\n",
    "\"\"\"\n",
    "\n",
    "# Initialiser le modèle de régression linéaire\n",
    "model = LinearRegression()\n",
    "\n",
    "# Entraîner le modèle sur les données d'entraînement\n",
    "model.fit(X_train, y_train)\n",
    "\n",
    "# Afficher les coefficients du modèle\n",
    "print(\"Coefficients:\", model.coef_)\n",
    "print(\"Intercept:\", model.intercept_)\n"
   ]
  },
  {
   "cell_type": "code",
   "execution_count": 32,
   "id": "2a6b6bdd-fd8c-4afd-9ec7-60bdaff9cb08",
   "metadata": {
    "scrolled": true
   },
   "outputs": [
    {
     "name": "stdout",
     "output_type": "stream",
     "text": [
      "Prédictions sur les données de test:\n",
      "[120100.81297664 139898.20827909 202611.4145861  ... 100482.39478483\n",
      " 100386.04850582 243444.31507603]\n"
     ]
    }
   ],
   "source": [
    "\"\"\"\n",
    "6. Faire des prédictions\n",
    "Une fois le modèle entraîné, nous ferons des prédictions sur les données de test.\n",
    "\"\"\"\n",
    "\n",
    "# Faire des prédictions sur les données de test\n",
    "y_pred = model.predict(X_test)\n",
    "\n",
    "# Afficher les prédictions\n",
    "print(\"Prédictions sur les données de test:\")\n",
    "print(y_pred)\n"
   ]
  },
  {
   "cell_type": "code",
   "execution_count": 33,
   "id": "744b8567-7b7f-4c32-b718-8bdbb14618c0",
   "metadata": {},
   "outputs": [
    {
     "name": "stdout",
     "output_type": "stream",
     "text": [
      "Erreur quadratique moyenne (MSE) sur les données d'entraînement: 2628535155.618378\n"
     ]
    }
   ],
   "source": [
    "\"\"\"\n",
    "7. Évaluer le modèle (pour les données d'entraînement)\n",
    "Pour évaluer le modèle, nous utiliserons l'erreur quadratique moyenne (MSE).\n",
    "\"\"\"\n",
    "\n",
    "# Faire des prédictions sur les données d'entraînement pour évaluer\n",
    "y_train_pred = model.predict(X_train)\n",
    "\n",
    "# Calculer l'erreur quadratique moyenne (MSE)\n",
    "mse = mean_squared_error(y_train, y_train_pred)\n",
    "print(\"Erreur quadratique moyenne (MSE) sur les données d'entraînement:\", mse)\n"
   ]
  },
  {
   "cell_type": "code",
   "execution_count": 34,
   "id": "e1592a04-dd3a-4be3-b93f-e747b9f66427",
   "metadata": {},
   "outputs": [
    {
     "name": "stdout",
     "output_type": "stream",
     "text": [
      "Erreur quadratique moyenne (MSE) sur les données d'entraînement: 2628535155.618378\n"
     ]
    }
   ],
   "source": [
    "\"\"\"\n",
    "8. Sauvegarder les prédictions\n",
    "Enfin, nous sauvegarderons les prédictions dans un fichier CSV pour analyse.\n",
    "\"\"\"\n",
    "\n",
    "# Faire des prédictions sur les données d'entraînement pour évaluer\n",
    "y_train_pred = model.predict(X_train)\n",
    "\n",
    "# Calculer l'erreur quadratique moyenne (MSE)\n",
    "mse = mean_squared_error(y_train, y_train_pred)\n",
    "print(\"Erreur quadratique moyenne (MSE) sur les données d'entraînement:\", mse)\n"
   ]
  }
 ],
 "metadata": {
  "kernelspec": {
   "display_name": "Python 3 (ipykernel)",
   "language": "python",
   "name": "python3"
  },
  "language_info": {
   "codemirror_mode": {
    "name": "ipython",
    "version": 3
   },
   "file_extension": ".py",
   "mimetype": "text/x-python",
   "name": "python",
   "nbconvert_exporter": "python",
   "pygments_lexer": "ipython3",
   "version": "3.12.4"
  }
 },
 "nbformat": 4,
 "nbformat_minor": 5
}
